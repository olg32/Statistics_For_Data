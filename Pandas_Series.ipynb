{
 "cells": [
  {
   "cell_type": "code",
   "execution_count": 1,
   "id": "904da228-d027-4493-ab8a-79716f3d1f89",
   "metadata": {},
   "outputs": [],
   "source": [
    "import numpy as np\n",
    "import pandas as pd"
   ]
  },
  {
   "cell_type": "code",
   "execution_count": 2,
   "id": "fffe6107-df4f-412f-902d-8c51f2415c7b",
   "metadata": {},
   "outputs": [],
   "source": [
    "mydays = ['sun','mon','tue']\n",
    "myexp = [34,44,29]"
   ]
  },
  {
   "cell_type": "code",
   "execution_count": 3,
   "id": "f12fecf3-607a-41b1-a9dc-27c969709532",
   "metadata": {},
   "outputs": [],
   "source": [
    "a_mydays=np.array(mydays)\n",
    "a_myexp=np.array(myexp)"
   ]
  },
  {
   "cell_type": "markdown",
   "id": "79e59e49-393d-46fb-8e40-99bd015e2967",
   "metadata": {},
   "source": [
    "# Panda Series:"
   ]
  },
  {
   "cell_type": "code",
   "execution_count": 4,
   "id": "6ea93239-0ef4-4175-b005-866718f0033c",
   "metadata": {},
   "outputs": [
    {
     "data": {
      "text/plain": [
       "0    34\n",
       "1    44\n",
       "2    29\n",
       "dtype: int64"
      ]
     },
     "execution_count": 4,
     "metadata": {},
     "output_type": "execute_result"
    }
   ],
   "source": [
    "import statistics\n",
    "import numpy as np\n",
    "import scipy.stats as stats"
   ]
  },
  {
   "cell_type": "code",
   "execution_count": 5,
   "id": "e5d0f3ec-5ca2-4c11-b05a-8a1883a4871d",
   "metadata": {},
   "outputs": [
    {
     "data": {
      "text/plain": [
       "0    34\n",
       "1    44\n",
       "2    29\n",
       "dtype: int64"
      ]
     },
     "execution_count": 5,
     "metadata": {},
     "output_type": "execute_result"
    }
   ],
   "source": [
    "pd.Series(myexp)"
   ]
  },
  {
   "cell_type": "code",
   "execution_count": 8,
   "id": "928f0a58-197b-44e0-bc7a-9d7d37b0506d",
   "metadata": {},
   "outputs": [
    {
     "data": {
      "text/plain": [
       "sun    34\n",
       "mon    44\n",
       "tue    29\n",
       "dtype: int64"
      ]
     },
     "execution_count": 8,
     "metadata": {},
     "output_type": "execute_result"
    }
   ],
   "source": [
    "s_myexp=pd.Series(data=myexp,index=mydays)\n",
    "s_myexp"
   ]
  },
  {
   "cell_type": "code",
   "execution_count": 7,
   "id": "85a19b12-07b9-4cbf-a88f-80e49fd013dc",
   "metadata": {},
   "outputs": [
    {
     "data": {
      "text/plain": [
       "44"
      ]
     },
     "execution_count": 7,
     "metadata": {},
     "output_type": "execute_result"
    }
   ],
   "source": [
    "a_myexp[1]"
   ]
  },
  {
   "cell_type": "code",
   "execution_count": 9,
   "id": "ed95e9a2-8538-46cb-87e4-0d786c82d2c8",
   "metadata": {},
   "outputs": [
    {
     "data": {
      "text/plain": [
       "Index(['sun', 'mon', 'tue'], dtype='object')"
      ]
     },
     "execution_count": 9,
     "metadata": {},
     "output_type": "execute_result"
    }
   ],
   "source": [
    "s_myexp.index"
   ]
  },
  {
   "cell_type": "code",
   "execution_count": null,
   "id": "1e65e686-a041-467f-97be-f76d6b37bff6",
   "metadata": {},
   "outputs": [],
   "source": []
  }
 ],
 "metadata": {
  "kernelspec": {
   "display_name": "Python 3 (ipykernel)",
   "language": "python",
   "name": "python3"
  },
  "language_info": {
   "codemirror_mode": {
    "name": "ipython",
    "version": 3
   },
   "file_extension": ".py",
   "mimetype": "text/x-python",
   "name": "python",
   "nbconvert_exporter": "python",
   "pygments_lexer": "ipython3",
   "version": "3.12.1"
  }
 },
 "nbformat": 4,
 "nbformat_minor": 5
}

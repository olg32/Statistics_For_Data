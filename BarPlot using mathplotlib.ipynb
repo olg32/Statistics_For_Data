{
 "cells": [
  {
   "cell_type": "code",
   "execution_count": 6,
   "id": "576538c1-81fb-4475-91f5-ad07cb8e85ad",
   "metadata": {},
   "outputs": [],
   "source": [
    "import numpy as np\n",
    "import pandas as pd\n",
    "import matplotlib.pyplot as plt"
   ]
  },
  {
   "cell_type": "code",
   "execution_count": 7,
   "id": "a6b723b3-73ae-4c2b-a0cb-4e8221aef377",
   "metadata": {},
   "outputs": [],
   "source": [
    "df=pd.read_csv('Piece_Dim.csv')"
   ]
  },
  {
   "cell_type": "code",
   "execution_count": 8,
   "id": "2cfcc938-6d05-4113-abd5-11cd7bb94971",
   "metadata": {},
   "outputs": [
    {
     "data": {
      "text/html": [
       "<div>\n",
       "<style scoped>\n",
       "    .dataframe tbody tr th:only-of-type {\n",
       "        vertical-align: middle;\n",
       "    }\n",
       "\n",
       "    .dataframe tbody tr th {\n",
       "        vertical-align: top;\n",
       "    }\n",
       "\n",
       "    .dataframe thead th {\n",
       "        text-align: right;\n",
       "    }\n",
       "</style>\n",
       "<table border=\"1\" class=\"dataframe\">\n",
       "  <thead>\n",
       "    <tr style=\"text-align: right;\">\n",
       "      <th></th>\n",
       "      <th>Item_No</th>\n",
       "      <th>Length</th>\n",
       "      <th>Width</th>\n",
       "      <th>Height</th>\n",
       "      <th>Operator</th>\n",
       "    </tr>\n",
       "  </thead>\n",
       "  <tbody>\n",
       "    <tr>\n",
       "      <th>0</th>\n",
       "      <td>Item-1</td>\n",
       "      <td>102.67</td>\n",
       "      <td>49.53</td>\n",
       "      <td>19.69</td>\n",
       "      <td>Op-1</td>\n",
       "    </tr>\n",
       "    <tr>\n",
       "      <th>1</th>\n",
       "      <td>Item-2</td>\n",
       "      <td>102.50</td>\n",
       "      <td>51.42</td>\n",
       "      <td>19.63</td>\n",
       "      <td>Op-1</td>\n",
       "    </tr>\n",
       "    <tr>\n",
       "      <th>2</th>\n",
       "      <td>Item-3</td>\n",
       "      <td>95.37</td>\n",
       "      <td>52.25</td>\n",
       "      <td>21.51</td>\n",
       "      <td>Op-1</td>\n",
       "    </tr>\n",
       "    <tr>\n",
       "      <th>3</th>\n",
       "      <td>Item-4</td>\n",
       "      <td>94.77</td>\n",
       "      <td>49.24</td>\n",
       "      <td>18.60</td>\n",
       "      <td>Op-1</td>\n",
       "    </tr>\n",
       "    <tr>\n",
       "      <th>4</th>\n",
       "      <td>Item-5</td>\n",
       "      <td>104.26</td>\n",
       "      <td>47.90</td>\n",
       "      <td>19.46</td>\n",
       "      <td>Op-1</td>\n",
       "    </tr>\n",
       "  </tbody>\n",
       "</table>\n",
       "</div>"
      ],
      "text/plain": [
       "  Item_No  Length  Width  Height Operator\n",
       "0  Item-1  102.67  49.53   19.69     Op-1\n",
       "1  Item-2  102.50  51.42   19.63     Op-1\n",
       "2  Item-3   95.37  52.25   21.51     Op-1\n",
       "3  Item-4   94.77  49.24   18.60     Op-1\n",
       "4  Item-5  104.26  47.90   19.46     Op-1"
      ]
     },
     "execution_count": 8,
     "metadata": {},
     "output_type": "execute_result"
    }
   ],
   "source": [
    "df.head()"
   ]
  },
  {
   "cell_type": "code",
   "execution_count": 9,
   "id": "fae03156-4840-4ddf-a77f-40aa18e1855e",
   "metadata": {},
   "outputs": [
    {
     "data": {
      "image/png": "[encoded data removed]",
      "text/plain": [
       "<Figure size 640x480 with 1 Axes>"
      ]
     },
     "metadata": {},
     "output_type": "display_data"
    }
   ],
   "source": [
    "opers = ['Operator1', 'Operator2', 'Operator3']\n",
    "pieces = [50, 35, 70]\n",
    "plt.bar(opers, pieces)\n",
    "plt.show()"
   ]
  },
  {
   "cell_type": "code",
   "execution_count": 11,
   "id": "52b57f98-5bb5-4478-8a31-3bd1633bc3a3",
   "metadata": {},
   "outputs": [
    {
     "data": {
      "text/plain": [
       "11"
      ]
     },
     "execution_count": 11,
     "metadata": {},
     "output_type": "execute_result"
    }
   ],
   "source": [
    "lowl = df[df['Length']<95] ['Length'].count()\n",
    "medl = df[df['Length']>=105] ['Length'].count()\n",
    "highl = df[df['Length']>150] ['Length'].count()\n",
    "medl"
   ]
  },
  {
   "cell_type": "code",
   "execution_count": 12,
   "id": "21a42c09-e32d-492a-96b9-7e4603c655d9",
   "metadata": {},
   "outputs": [],
   "source": [
    "sizel = [lowl, medl, highl]\n",
    "groupl = ['<95', 'Between 95 & 105', '>105']"
   ]
  },
  {
   "cell_type": "code",
   "execution_count": 13,
   "id": "cfc07b81-5afb-4f73-bff9-c3fb1de5890f",
   "metadata": {},
   "outputs": [
    {
     "data": {
      "image/png": "[encoded data removed]",
      "text/plain": [
       "<Figure size 640x480 with 1 Axes>"
      ]
     },
     "metadata": {},
     "output_type": "display_data"
    }
   ],
   "source": [
    "plt.bar(groupl, sizel)\n",
    "plt.show()"
   ]
  },
  {
   "cell_type": "markdown",
   "id": "fe32f71e-6a1e-4737-919b-6c95b8ae5cdb",
   "metadata": {},
   "source": [
    "# Now, to save an jpg do this"
   ]
  },
  {
   "cell_type": "code",
   "execution_count": 14,
   "id": "32855b08-d7f9-4a2b-b549-3f39b072d39f",
   "metadata": {},
   "outputs": [
    {
     "data": {
      "text/plain": [
       "<Figure size 640x480 with 0 Axes>"
      ]
     },
     "metadata": {},
     "output_type": "display_data"
    }
   ],
   "source": [
    "plt.savefig('My BoxPlot.jpg')"
   ]
  },
  {
   "cell_type": "code",
   "execution_count": null,
   "id": "417106f3-8a2d-42ab-970f-c72c1f5da001",
   "metadata": {},
   "outputs": [],
   "source": []
  },
  {
   "cell_type": "code",
   "execution_count": null,
   "id": "5b877887-d6ca-4e51-bbb6-013f67803d9a",
   "metadata": {},
   "outputs": [],
   "source": []
  }
 ],
 "metadata": {
  "kernelspec": {
   "display_name": "Python 3 (ipykernel)",
   "language": "python",
   "name": "python3"
  },
  "language_info": {
   "codemirror_mode": {
    "name": "ipython",
    "version": 3
   },
   "file_extension": ".py",
   "mimetype": "text/x-python",
   "name": "python",
   "nbconvert_exporter": "python",
   "pygments_lexer": "ipython3",
   "version": "3.12.1"
  }
 },
 "nbformat": 4,
 "nbformat_minor": 5
}

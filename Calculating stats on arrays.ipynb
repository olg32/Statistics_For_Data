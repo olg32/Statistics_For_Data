{
 "cells": [
  {
   "cell_type": "code",
   "execution_count": 7,
   "id": "7bdd1144-d79f-44aa-84d9-70b9ff823b7f",
   "metadata": {},
   "outputs": [],
   "source": [
    "import statistics\n",
    "import numpy as np\n",
    "import scipy.stats as stats"
   ]
  },
  {
   "cell_type": "code",
   "execution_count": 2,
   "id": "6eeb54a8-03f1-449a-8099-c32a937fb3ec",
   "metadata": {},
   "outputs": [],
   "source": [
    "li=[1,2,3,3]"
   ]
  },
  {
   "cell_type": "code",
   "execution_count": 3,
   "id": "396ef5dd-7f64-4285-bc4e-8fe893d47a64",
   "metadata": {},
   "outputs": [
    {
     "data": {
      "text/plain": [
       "2.25"
      ]
     },
     "execution_count": 3,
     "metadata": {},
     "output_type": "execute_result"
    }
   ],
   "source": [
    "statistics.mean(li)"
   ]
  },
  {
   "cell_type": "code",
   "execution_count": 4,
   "id": "b55e45fc-959f-4e5c-bf59-c49aac27d104",
   "metadata": {},
   "outputs": [
    {
     "data": {
      "text/plain": [
       "2.25"
      ]
     },
     "execution_count": 4,
     "metadata": {},
     "output_type": "execute_result"
    }
   ],
   "source": [
    "np.mean(li)"
   ]
  },
  {
   "cell_type": "code",
   "execution_count": 5,
   "id": "a8e6cb7f-181e-497a-863f-3067c57a5f6f",
   "metadata": {},
   "outputs": [
    {
     "data": {
      "text/plain": [
       "0.82915619758885"
      ]
     },
     "execution_count": 5,
     "metadata": {},
     "output_type": "execute_result"
    }
   ],
   "source": [
    "np.std(li)"
   ]
  },
  {
   "cell_type": "code",
   "execution_count": 6,
   "id": "5df67fb6-f744-4cb4-bef9-d7ef32c67aaf",
   "metadata": {},
   "outputs": [
    {
     "data": {
      "text/plain": [
       "0.6875"
      ]
     },
     "execution_count": 6,
     "metadata": {},
     "output_type": "execute_result"
    }
   ],
   "source": [
    "np.var(li)"
   ]
  },
  {
   "cell_type": "code",
   "execution_count": 8,
   "id": "22aae323-ccda-4cd1-acb9-dc52f36e793d",
   "metadata": {},
   "outputs": [
    {
     "data": {
      "text/plain": [
       "ModeResult(mode=3, count=2)"
      ]
     },
     "execution_count": 8,
     "metadata": {},
     "output_type": "execute_result"
    }
   ],
   "source": [
    "stats.mode(li)"
   ]
  },
  {
   "cell_type": "code",
   "execution_count": 10,
   "id": "9a035eb5-8cf5-4f08-b538-52febfcaa052",
   "metadata": {},
   "outputs": [
    {
     "data": {
      "text/plain": [
       "array([17, 14,  5,  0,  0,  1,  8, 16,  9,  6,  8, 11, 11,  3, 10,  6,  0,\n",
       "       19,  1, 15])"
      ]
     },
     "execution_count": 10,
     "metadata": {},
     "output_type": "execute_result"
    }
   ],
   "source": [
    "one_d=np.random.randint(0,20,20)\n",
    "one_d"
   ]
  },
  {
   "cell_type": "code",
   "execution_count": 11,
   "id": "e1219d6a-29ec-4d54-840e-b2ae1982281b",
   "metadata": {},
   "outputs": [],
   "source": [
    "two_d=one_d.reshape(4,5)"
   ]
  },
  {
   "cell_type": "code",
   "execution_count": 12,
   "id": "81806477-9774-47b4-8802-cfb5ae5db00f",
   "metadata": {},
   "outputs": [
    {
     "data": {
      "text/plain": [
       "array([[17, 14,  5,  0,  0],\n",
       "       [ 1,  8, 16,  9,  6],\n",
       "       [ 8, 11, 11,  3, 10],\n",
       "       [ 6,  0, 19,  1, 15]])"
      ]
     },
     "execution_count": 12,
     "metadata": {},
     "output_type": "execute_result"
    }
   ],
   "source": [
    "two_d"
   ]
  },
  {
   "cell_type": "markdown",
   "id": "da2f3c17-e5df-43db-b4f4-b20212bcd4b3",
   "metadata": {},
   "source": [
    "# obtaining means per row"
   ]
  },
  {
   "cell_type": "code",
   "execution_count": 13,
   "id": "88108603-3279-4fe4-9a85-44361f4612a6",
   "metadata": {},
   "outputs": [
    {
     "data": {
      "text/plain": [
       "8.0"
      ]
     },
     "execution_count": 13,
     "metadata": {},
     "output_type": "execute_result"
    }
   ],
   "source": [
    "np.mean(two_d)"
   ]
  },
  {
   "cell_type": "code",
   "execution_count": 14,
   "id": "8c0ae431-58f8-4292-98b2-02605de3548a",
   "metadata": {},
   "outputs": [
    {
     "data": {
      "text/plain": [
       "array([ 8.  ,  8.25, 12.75,  3.25,  7.75])"
      ]
     },
     "execution_count": 14,
     "metadata": {},
     "output_type": "execute_result"
    }
   ],
   "source": [
    "np.mean(two_d,axis=0)"
   ]
  },
  {
   "cell_type": "code",
   "execution_count": 15,
   "id": "4ac0603f-8dbf-4d16-8a20-a5df8cc5a2b6",
   "metadata": {},
   "outputs": [
    {
     "data": {
      "text/plain": [
       "array([7.2, 8. , 8.6, 8.2])"
      ]
     },
     "execution_count": 15,
     "metadata": {},
     "output_type": "execute_result"
    }
   ],
   "source": [
    "np.mean(two_d,axis=1)"
   ]
  },
  {
   "cell_type": "code",
   "execution_count": 2,
   "id": "4aeb17a6-4f0a-48ff-a980-7585f060463b",
   "metadata": {},
   "outputs": [],
   "source": [
    "import statistics\n",
    "import numpy as np\n",
    "import scipy.stats as stats"
   ]
  },
  {
   "cell_type": "code",
   "execution_count": 3,
   "id": "8322c830-0952-4988-9666-446388ce462c",
   "metadata": {},
   "outputs": [],
   "source": [
    "two_d=np.arange(1,10).reshape(3,3)"
   ]
  },
  {
   "cell_type": "code",
   "execution_count": 4,
   "id": "3c8b1be5-c685-471e-865d-ba8aaf27637a",
   "metadata": {},
   "outputs": [
    {
     "data": {
      "text/plain": [
       "array([[1, 2, 3],\n",
       "       [4, 5, 6],\n",
       "       [7, 8, 9]])"
      ]
     },
     "execution_count": 4,
     "metadata": {},
     "output_type": "execute_result"
    }
   ],
   "source": [
    "two_d"
   ]
  },
  {
   "cell_type": "code",
   "execution_count": null,
   "id": "fea00c0f-a13b-43f6-a4a7-9e35c8253233",
   "metadata": {},
   "outputs": [],
   "source": []
  },
  {
   "cell_type": "code",
   "execution_count": null,
   "id": "2f96019b-a6e5-4a63-9ddf-93cdcd48b73b",
   "metadata": {},
   "outputs": [],
   "source": []
  }
 ],
 "metadata": {
  "kernelspec": {
   "display_name": "Python 3 (ipykernel)",
   "language": "python",
   "name": "python3"
  },
  "language_info": {
   "codemirror_mode": {
    "name": "ipython",
    "version": 3
   },
   "file_extension": ".py",
   "mimetype": "text/x-python",
   "name": "python",
   "nbconvert_exporter": "python",
   "pygments_lexer": "ipython3",
   "version": "3.12.1"
  }
 },
 "nbformat": 4,
 "nbformat_minor": 5
}
